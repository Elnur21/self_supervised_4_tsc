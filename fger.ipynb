{
 "cells": [
  {
   "cell_type": "code",
   "execution_count": 1,
   "metadata": {},
   "outputs": [
    {
     "ename": "ModuleNotFoundError",
     "evalue": "No module named 'tensorflow'",
     "output_type": "error",
     "traceback": [
      "\u001b[0;31m---------------------------------------------------------------------------\u001b[0m",
      "\u001b[0;31mModuleNotFoundError\u001b[0m                       Traceback (most recent call last)",
      "Cell \u001b[0;32mIn[1], line 6\u001b[0m\n\u001b[1;32m      4\u001b[0m \u001b[38;5;28;01mimport\u001b[39;00m \u001b[38;5;21;01mpandas\u001b[39;00m \u001b[38;5;28;01mas\u001b[39;00m \u001b[38;5;21;01mpd\u001b[39;00m\n\u001b[1;32m      5\u001b[0m \u001b[38;5;28;01mfrom\u001b[39;00m \u001b[38;5;21;01mutils\u001b[39;00m\u001b[38;5;21;01m.\u001b[39;00m\u001b[38;5;21;01mutils\u001b[39;00m \u001b[38;5;28;01mimport\u001b[39;00m load_data, znormalisation, create_directory, encode_labels, split_ypred,draw,draw_before\n\u001b[0;32m----> 6\u001b[0m \u001b[38;5;28;01mfrom\u001b[39;00m \u001b[38;5;21;01mmodel\u001b[39;00m \u001b[38;5;28;01mimport\u001b[39;00m MODEL\n\u001b[1;32m     11\u001b[0m UNIVARIATE_DATASET_NAMES_2018 \u001b[38;5;241m=\u001b[39m [ \u001b[38;5;124m'\u001b[39m\u001b[38;5;124mYoga\u001b[39m\u001b[38;5;124m'\u001b[39m, \u001b[38;5;124m'\u001b[39m\u001b[38;5;124mGunPointOldVersusYoung\u001b[39m\u001b[38;5;124m'\u001b[39m,\n\u001b[1;32m     12\u001b[0m                  \u001b[38;5;124m'\u001b[39m\u001b[38;5;124mFreezerSmallTrain\u001b[39m\u001b[38;5;124m'\u001b[39m, \u001b[38;5;124m'\u001b[39m\u001b[38;5;124mWordSynonyms\u001b[39m\u001b[38;5;124m'\u001b[39m, \u001b[38;5;124m'\u001b[39m\u001b[38;5;124mCar\u001b[39m\u001b[38;5;124m'\u001b[39m, \u001b[38;5;124m'\u001b[39m\u001b[38;5;124mProximalPhalanxTW\u001b[39m\u001b[38;5;124m'\u001b[39m, \u001b[38;5;124m'\u001b[39m\u001b[38;5;124mInsectWingbeatSound\u001b[39m\u001b[38;5;124m'\u001b[39m,\u001b[38;5;124m'\u001b[39m\u001b[38;5;124mFaceAll\u001b[39m\u001b[38;5;124m'\u001b[39m, \u001b[38;5;124m'\u001b[39m\u001b[38;5;124mEOGVerticalSignal\u001b[39m\u001b[38;5;124m'\u001b[39m,  \u001b[38;5;124m'\u001b[39m\u001b[38;5;124mEarthquakes\u001b[39m\u001b[38;5;124m'\u001b[39m]\n\u001b[1;32m     16\u001b[0m \u001b[38;5;28;01mif\u001b[39;00m \u001b[38;5;18m__name__\u001b[39m \u001b[38;5;241m==\u001b[39m \u001b[38;5;124m\"\u001b[39m\u001b[38;5;124m__main__\u001b[39m\u001b[38;5;124m\"\u001b[39m:\n",
      "File \u001b[0;32m~/Desktop/TRILITE/model.py:1\u001b[0m\n\u001b[0;32m----> 1\u001b[0m \u001b[38;5;28;01mimport\u001b[39;00m \u001b[38;5;21;01mtensorflow\u001b[39;00m \u001b[38;5;28;01mas\u001b[39;00m \u001b[38;5;21;01mtf\u001b[39;00m\n\u001b[1;32m      2\u001b[0m \u001b[38;5;28;01mimport\u001b[39;00m \u001b[38;5;21;01mnumpy\u001b[39;00m \u001b[38;5;28;01mas\u001b[39;00m \u001b[38;5;21;01mnp\u001b[39;00m\n\u001b[1;32m      3\u001b[0m \u001b[38;5;28;01mfrom\u001b[39;00m \u001b[38;5;21;01mencoders\u001b[39;00m\u001b[38;5;21;01m.\u001b[39;00m\u001b[38;5;21;01mfcn\u001b[39;00m \u001b[38;5;28;01mimport\u001b[39;00m FCN\n",
      "\u001b[0;31mModuleNotFoundError\u001b[0m: No module named 'tensorflow'"
     ]
    }
   ],
   "source": [
    "import sys\n",
    "import os\n",
    "import numpy as np\n",
    "import pandas as pd\n",
    "from utils.utils import load_data, znormalisation, create_directory, encode_labels, split_ypred,draw,draw_before\n",
    "from model import MODEL\n",
    "\n",
    "    \n",
    "\n",
    "\n",
    "UNIVARIATE_DATASET_NAMES_2018 = [ 'Yoga', 'GunPointOldVersusYoung',\n",
    "                 'FreezerSmallTrain', 'WordSynonyms', 'Car', 'ProximalPhalanxTW', 'InsectWingbeatSound','FaceAll', 'EOGVerticalSignal',  'Earthquakes']\n",
    "\n",
    "\n",
    "\n",
    "if __name__ == \"__main__\":\n",
    "\n",
    "\n",
    "    runs = 5\n",
    "\n",
    "    n_dim = 128\n",
    "\n",
    "    encoder_name=\"lite\"\n",
    "    for file_name in UNIVARIATE_DATASET_NAMES_2018:\n",
    "        output_directory_parent = 'results_lite/'\n",
    "        # if os.path.exists(output_directory_parent+\"fcn/run_0/\"+file_name):\n",
    "        #     print('Already done')\n",
    "        #     continue\n",
    "\n",
    "        create_directory(output_directory_parent)\n",
    "\n",
    "        output_directory_parent = output_directory_parent + encoder_name + '/'\n",
    "        create_directory(output_directory_parent)\n",
    "\n",
    "        xtrain, ytrain, xtest, ytest = load_data(file_name=file_name)\n",
    "        \n",
    "        xtrain = znormalisation(xtrain)\n",
    "        xtest = znormalisation(xtest)\n",
    "\n",
    "        ytrain = encode_labels(ytrain)\n",
    "        ytest = encode_labels(ytest)\n",
    "\n",
    "        l = int(xtrain.shape[1])\n",
    "        \n",
    "\n",
    "        for _run in range(1):\n",
    "        \n",
    "            output_directory = output_directory_parent + 'run_'+str(_run) + '/'\n",
    "            create_directory(output_directory)\n",
    "            output_directory = output_directory + file_name + '/'\n",
    "            create_directory(output_directory)\n",
    "\n",
    "            model = MODEL(length_TS=l,n_dim=n_dim,encoder_name=encoder_name,output_directory=output_directory)\n",
    "\n",
    "            model.fit(xtrain=xtrain,xval=xtest)\n",
    "\n",
    "            ypred_train = model.predict(xtrain)\n",
    "            ypred_test = model.predict(xtest)\n",
    "\n",
    "            # draw(ypred_test=ypred_test,labels_test=ytest,output_directory=output_directory)\n",
    "            # draw_before(xtest=xtest,ytest=ytest,output_directory=output_directory)\n",
    "\n",
    "            new_xtrain, new_xtest = split_ypred(ypred_train=ypred_train,ypred_test=ypred_test)\n",
    "\n",
    "            new_xtrain = np.asarray(new_xtrain)\n",
    "            new_xtest = np.asarray(new_xtest)\n",
    "\n",
    "            np.save(arr=new_xtrain,file=output_directory+'v_train.npy')\n",
    "            np.save(arr=new_xtest,file=output_directory+'v_test.npy')\n"
   ]
  }
 ],
 "metadata": {
  "kernelspec": {
   "display_name": "env",
   "language": "python",
   "name": "python3"
  },
  "language_info": {
   "codemirror_mode": {
    "name": "ipython",
    "version": 3
   },
   "file_extension": ".py",
   "mimetype": "text/x-python",
   "name": "python",
   "nbconvert_exporter": "python",
   "pygments_lexer": "ipython3",
   "version": "3.10.12"
  }
 },
 "nbformat": 4,
 "nbformat_minor": 2
}
